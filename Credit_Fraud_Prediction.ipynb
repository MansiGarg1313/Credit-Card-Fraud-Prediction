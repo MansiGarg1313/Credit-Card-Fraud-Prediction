{
 "cells": [
  {
   "cell_type": "code",
   "execution_count": 70,
   "id": "cf67339b",
   "metadata": {},
   "outputs": [],
   "source": [
    "# Importing the required libraries\n",
    "import numpy as np\n",
    "import pandas as pd\n",
    "import seaborn as sns\n",
    "import matplotlib.pyplot as plt\n",
    "from scipy import stats\n",
    "\n",
    "import warnings\n",
    "warnings.filterwarnings('ignore')"
   ]
  },
  {
   "cell_type": "code",
   "execution_count": 71,
   "id": "84ca6a4a",
   "metadata": {},
   "outputs": [],
   "source": [
    "# Loading the dataset\n",
    "df = pd.read_csv(r\"D:\\GreatLakes\\Projects\\Credit_Card_Fraud\\creditcard.csv\")"
   ]
  },
  {
   "cell_type": "code",
   "execution_count": 72,
   "id": "a3bd48f7",
   "metadata": {},
   "outputs": [
    {
     "data": {
      "text/html": [
       "<div>\n",
       "<style scoped>\n",
       "    .dataframe tbody tr th:only-of-type {\n",
       "        vertical-align: middle;\n",
       "    }\n",
       "\n",
       "    .dataframe tbody tr th {\n",
       "        vertical-align: top;\n",
       "    }\n",
       "\n",
       "    .dataframe thead th {\n",
       "        text-align: right;\n",
       "    }\n",
       "</style>\n",
       "<table border=\"1\" class=\"dataframe\">\n",
       "  <thead>\n",
       "    <tr style=\"text-align: right;\">\n",
       "      <th></th>\n",
       "      <th>Time</th>\n",
       "      <th>V1</th>\n",
       "      <th>V2</th>\n",
       "      <th>V3</th>\n",
       "      <th>V4</th>\n",
       "      <th>V5</th>\n",
       "      <th>V6</th>\n",
       "      <th>V7</th>\n",
       "      <th>V8</th>\n",
       "      <th>V9</th>\n",
       "      <th>...</th>\n",
       "      <th>V21</th>\n",
       "      <th>V22</th>\n",
       "      <th>V23</th>\n",
       "      <th>V24</th>\n",
       "      <th>V25</th>\n",
       "      <th>V26</th>\n",
       "      <th>V27</th>\n",
       "      <th>V28</th>\n",
       "      <th>Amount</th>\n",
       "      <th>Class</th>\n",
       "    </tr>\n",
       "  </thead>\n",
       "  <tbody>\n",
       "    <tr>\n",
       "      <th>0</th>\n",
       "      <td>0.0</td>\n",
       "      <td>-1.359807</td>\n",
       "      <td>-0.072781</td>\n",
       "      <td>2.536347</td>\n",
       "      <td>1.378155</td>\n",
       "      <td>-0.338321</td>\n",
       "      <td>0.462388</td>\n",
       "      <td>0.239599</td>\n",
       "      <td>0.098698</td>\n",
       "      <td>0.363787</td>\n",
       "      <td>...</td>\n",
       "      <td>-0.018307</td>\n",
       "      <td>0.277838</td>\n",
       "      <td>-0.110474</td>\n",
       "      <td>0.066928</td>\n",
       "      <td>0.128539</td>\n",
       "      <td>-0.189115</td>\n",
       "      <td>0.133558</td>\n",
       "      <td>-0.021053</td>\n",
       "      <td>149.62</td>\n",
       "      <td>0</td>\n",
       "    </tr>\n",
       "    <tr>\n",
       "      <th>1</th>\n",
       "      <td>0.0</td>\n",
       "      <td>1.191857</td>\n",
       "      <td>0.266151</td>\n",
       "      <td>0.166480</td>\n",
       "      <td>0.448154</td>\n",
       "      <td>0.060018</td>\n",
       "      <td>-0.082361</td>\n",
       "      <td>-0.078803</td>\n",
       "      <td>0.085102</td>\n",
       "      <td>-0.255425</td>\n",
       "      <td>...</td>\n",
       "      <td>-0.225775</td>\n",
       "      <td>-0.638672</td>\n",
       "      <td>0.101288</td>\n",
       "      <td>-0.339846</td>\n",
       "      <td>0.167170</td>\n",
       "      <td>0.125895</td>\n",
       "      <td>-0.008983</td>\n",
       "      <td>0.014724</td>\n",
       "      <td>2.69</td>\n",
       "      <td>0</td>\n",
       "    </tr>\n",
       "    <tr>\n",
       "      <th>2</th>\n",
       "      <td>1.0</td>\n",
       "      <td>-1.358354</td>\n",
       "      <td>-1.340163</td>\n",
       "      <td>1.773209</td>\n",
       "      <td>0.379780</td>\n",
       "      <td>-0.503198</td>\n",
       "      <td>1.800499</td>\n",
       "      <td>0.791461</td>\n",
       "      <td>0.247676</td>\n",
       "      <td>-1.514654</td>\n",
       "      <td>...</td>\n",
       "      <td>0.247998</td>\n",
       "      <td>0.771679</td>\n",
       "      <td>0.909412</td>\n",
       "      <td>-0.689281</td>\n",
       "      <td>-0.327642</td>\n",
       "      <td>-0.139097</td>\n",
       "      <td>-0.055353</td>\n",
       "      <td>-0.059752</td>\n",
       "      <td>378.66</td>\n",
       "      <td>0</td>\n",
       "    </tr>\n",
       "    <tr>\n",
       "      <th>3</th>\n",
       "      <td>1.0</td>\n",
       "      <td>-0.966272</td>\n",
       "      <td>-0.185226</td>\n",
       "      <td>1.792993</td>\n",
       "      <td>-0.863291</td>\n",
       "      <td>-0.010309</td>\n",
       "      <td>1.247203</td>\n",
       "      <td>0.237609</td>\n",
       "      <td>0.377436</td>\n",
       "      <td>-1.387024</td>\n",
       "      <td>...</td>\n",
       "      <td>-0.108300</td>\n",
       "      <td>0.005274</td>\n",
       "      <td>-0.190321</td>\n",
       "      <td>-1.175575</td>\n",
       "      <td>0.647376</td>\n",
       "      <td>-0.221929</td>\n",
       "      <td>0.062723</td>\n",
       "      <td>0.061458</td>\n",
       "      <td>123.50</td>\n",
       "      <td>0</td>\n",
       "    </tr>\n",
       "    <tr>\n",
       "      <th>4</th>\n",
       "      <td>2.0</td>\n",
       "      <td>-1.158233</td>\n",
       "      <td>0.877737</td>\n",
       "      <td>1.548718</td>\n",
       "      <td>0.403034</td>\n",
       "      <td>-0.407193</td>\n",
       "      <td>0.095921</td>\n",
       "      <td>0.592941</td>\n",
       "      <td>-0.270533</td>\n",
       "      <td>0.817739</td>\n",
       "      <td>...</td>\n",
       "      <td>-0.009431</td>\n",
       "      <td>0.798278</td>\n",
       "      <td>-0.137458</td>\n",
       "      <td>0.141267</td>\n",
       "      <td>-0.206010</td>\n",
       "      <td>0.502292</td>\n",
       "      <td>0.219422</td>\n",
       "      <td>0.215153</td>\n",
       "      <td>69.99</td>\n",
       "      <td>0</td>\n",
       "    </tr>\n",
       "  </tbody>\n",
       "</table>\n",
       "<p>5 rows × 31 columns</p>\n",
       "</div>"
      ],
      "text/plain": [
       "   Time        V1        V2        V3        V4        V5        V6        V7  \\\n",
       "0   0.0 -1.359807 -0.072781  2.536347  1.378155 -0.338321  0.462388  0.239599   \n",
       "1   0.0  1.191857  0.266151  0.166480  0.448154  0.060018 -0.082361 -0.078803   \n",
       "2   1.0 -1.358354 -1.340163  1.773209  0.379780 -0.503198  1.800499  0.791461   \n",
       "3   1.0 -0.966272 -0.185226  1.792993 -0.863291 -0.010309  1.247203  0.237609   \n",
       "4   2.0 -1.158233  0.877737  1.548718  0.403034 -0.407193  0.095921  0.592941   \n",
       "\n",
       "         V8        V9  ...       V21       V22       V23       V24       V25  \\\n",
       "0  0.098698  0.363787  ... -0.018307  0.277838 -0.110474  0.066928  0.128539   \n",
       "1  0.085102 -0.255425  ... -0.225775 -0.638672  0.101288 -0.339846  0.167170   \n",
       "2  0.247676 -1.514654  ...  0.247998  0.771679  0.909412 -0.689281 -0.327642   \n",
       "3  0.377436 -1.387024  ... -0.108300  0.005274 -0.190321 -1.175575  0.647376   \n",
       "4 -0.270533  0.817739  ... -0.009431  0.798278 -0.137458  0.141267 -0.206010   \n",
       "\n",
       "        V26       V27       V28  Amount  Class  \n",
       "0 -0.189115  0.133558 -0.021053  149.62      0  \n",
       "1  0.125895 -0.008983  0.014724    2.69      0  \n",
       "2 -0.139097 -0.055353 -0.059752  378.66      0  \n",
       "3 -0.221929  0.062723  0.061458  123.50      0  \n",
       "4  0.502292  0.219422  0.215153   69.99      0  \n",
       "\n",
       "[5 rows x 31 columns]"
      ]
     },
     "execution_count": 72,
     "metadata": {},
     "output_type": "execute_result"
    }
   ],
   "source": [
    "# Top 5 values\n",
    "df.head()"
   ]
  },
  {
   "cell_type": "raw",
   "id": "4aca5d3b",
   "metadata": {},
   "source": [
    "The dataset contains transactions made by credit cards in September 2013 by European cardholders.\n",
    "This dataset presents transactions that occurred in two days, where we have 492 frauds out of 284,807 transactions. The dataset is highly unbalanced, the positive class (frauds) account for 0.172% of all transactions.\n",
    "\n",
    "It contains only numerical input variables which are the result of a PCA transformation. Unfortunately, due to confidentiality issues, we cannot provide the original features and more background information about the data. Features V1, V2, … V28 are the principal components obtained with PCA, the only features which have not been transformed with PCA are 'Time' and 'Amount'. Feature 'Time' contains the seconds elapsed between each transaction and the first transaction in the dataset. The feature 'Amount' is the transaction Amount, this feature can be used for example-dependant cost-sensitive learning. Feature 'Class' is the response variable and it takes value 1 in case of fraud and 0 otherwise.\n",
    "\n",
    "Given the class imbalance ratio, we recommend measuring the accuracy using the Area Under the Precision-Recall Curve (AUPRC). Confusion matrix accuracy is not meaningful for unbalanced classification."
   ]
  },
  {
   "cell_type": "markdown",
   "id": "e998244b",
   "metadata": {},
   "source": [
    "### Missing Values"
   ]
  },
  {
   "cell_type": "code",
   "execution_count": 73,
   "id": "617ccb72",
   "metadata": {},
   "outputs": [
    {
     "data": {
      "text/plain": [
       "Time      0\n",
       "V1        0\n",
       "V2        0\n",
       "V3        0\n",
       "V4        0\n",
       "V5        0\n",
       "V6        0\n",
       "V7        0\n",
       "V8        0\n",
       "V9        0\n",
       "V10       0\n",
       "V11       0\n",
       "V12       0\n",
       "V13       0\n",
       "V14       0\n",
       "V15       0\n",
       "V16       0\n",
       "V17       0\n",
       "V18       0\n",
       "V19       0\n",
       "V20       0\n",
       "V21       0\n",
       "V22       0\n",
       "V23       0\n",
       "V24       0\n",
       "V25       0\n",
       "V26       0\n",
       "V27       0\n",
       "V28       0\n",
       "Amount    0\n",
       "Class     0\n",
       "dtype: int64"
      ]
     },
     "execution_count": 73,
     "metadata": {},
     "output_type": "execute_result"
    }
   ],
   "source": [
    "# Checking for null values in each column\n",
    "df.isnull().sum()"
   ]
  },
  {
   "cell_type": "raw",
   "id": "6e9f069e",
   "metadata": {},
   "source": [
    "No missing values were found in the data"
   ]
  },
  {
   "cell_type": "markdown",
   "id": "70eb4d17",
   "metadata": {},
   "source": [
    "### Duplicate values"
   ]
  },
  {
   "cell_type": "code",
   "execution_count": 74,
   "id": "b7d64790",
   "metadata": {},
   "outputs": [
    {
     "data": {
      "text/html": [
       "<div>\n",
       "<style scoped>\n",
       "    .dataframe tbody tr th:only-of-type {\n",
       "        vertical-align: middle;\n",
       "    }\n",
       "\n",
       "    .dataframe tbody tr th {\n",
       "        vertical-align: top;\n",
       "    }\n",
       "\n",
       "    .dataframe thead th {\n",
       "        text-align: right;\n",
       "    }\n",
       "</style>\n",
       "<table border=\"1\" class=\"dataframe\">\n",
       "  <thead>\n",
       "    <tr style=\"text-align: right;\">\n",
       "      <th></th>\n",
       "      <th>Time</th>\n",
       "      <th>V1</th>\n",
       "      <th>V2</th>\n",
       "      <th>V3</th>\n",
       "      <th>V4</th>\n",
       "      <th>V5</th>\n",
       "      <th>V6</th>\n",
       "      <th>V7</th>\n",
       "      <th>V8</th>\n",
       "      <th>V9</th>\n",
       "      <th>...</th>\n",
       "      <th>V21</th>\n",
       "      <th>V22</th>\n",
       "      <th>V23</th>\n",
       "      <th>V24</th>\n",
       "      <th>V25</th>\n",
       "      <th>V26</th>\n",
       "      <th>V27</th>\n",
       "      <th>V28</th>\n",
       "      <th>Amount</th>\n",
       "      <th>Class</th>\n",
       "    </tr>\n",
       "  </thead>\n",
       "  <tbody>\n",
       "    <tr>\n",
       "      <th>33</th>\n",
       "      <td>26.0</td>\n",
       "      <td>-0.529912</td>\n",
       "      <td>0.873892</td>\n",
       "      <td>1.347247</td>\n",
       "      <td>0.145457</td>\n",
       "      <td>0.414209</td>\n",
       "      <td>0.100223</td>\n",
       "      <td>0.711206</td>\n",
       "      <td>0.176066</td>\n",
       "      <td>-0.286717</td>\n",
       "      <td>...</td>\n",
       "      <td>0.046949</td>\n",
       "      <td>0.208105</td>\n",
       "      <td>-0.185548</td>\n",
       "      <td>0.001031</td>\n",
       "      <td>0.098816</td>\n",
       "      <td>-0.552904</td>\n",
       "      <td>-0.073288</td>\n",
       "      <td>0.023307</td>\n",
       "      <td>6.14</td>\n",
       "      <td>0</td>\n",
       "    </tr>\n",
       "    <tr>\n",
       "      <th>35</th>\n",
       "      <td>26.0</td>\n",
       "      <td>-0.535388</td>\n",
       "      <td>0.865268</td>\n",
       "      <td>1.351076</td>\n",
       "      <td>0.147575</td>\n",
       "      <td>0.433680</td>\n",
       "      <td>0.086983</td>\n",
       "      <td>0.693039</td>\n",
       "      <td>0.179742</td>\n",
       "      <td>-0.285642</td>\n",
       "      <td>...</td>\n",
       "      <td>0.049526</td>\n",
       "      <td>0.206537</td>\n",
       "      <td>-0.187108</td>\n",
       "      <td>0.000753</td>\n",
       "      <td>0.098117</td>\n",
       "      <td>-0.553471</td>\n",
       "      <td>-0.078306</td>\n",
       "      <td>0.025427</td>\n",
       "      <td>1.77</td>\n",
       "      <td>0</td>\n",
       "    </tr>\n",
       "    <tr>\n",
       "      <th>113</th>\n",
       "      <td>74.0</td>\n",
       "      <td>1.038370</td>\n",
       "      <td>0.127486</td>\n",
       "      <td>0.184456</td>\n",
       "      <td>1.109950</td>\n",
       "      <td>0.441699</td>\n",
       "      <td>0.945283</td>\n",
       "      <td>-0.036715</td>\n",
       "      <td>0.350995</td>\n",
       "      <td>0.118950</td>\n",
       "      <td>...</td>\n",
       "      <td>0.102520</td>\n",
       "      <td>0.605089</td>\n",
       "      <td>0.023092</td>\n",
       "      <td>-0.626463</td>\n",
       "      <td>0.479120</td>\n",
       "      <td>-0.166937</td>\n",
       "      <td>0.081247</td>\n",
       "      <td>0.001192</td>\n",
       "      <td>1.18</td>\n",
       "      <td>0</td>\n",
       "    </tr>\n",
       "    <tr>\n",
       "      <th>114</th>\n",
       "      <td>74.0</td>\n",
       "      <td>1.038370</td>\n",
       "      <td>0.127486</td>\n",
       "      <td>0.184456</td>\n",
       "      <td>1.109950</td>\n",
       "      <td>0.441699</td>\n",
       "      <td>0.945283</td>\n",
       "      <td>-0.036715</td>\n",
       "      <td>0.350995</td>\n",
       "      <td>0.118950</td>\n",
       "      <td>...</td>\n",
       "      <td>0.102520</td>\n",
       "      <td>0.605089</td>\n",
       "      <td>0.023092</td>\n",
       "      <td>-0.626463</td>\n",
       "      <td>0.479120</td>\n",
       "      <td>-0.166937</td>\n",
       "      <td>0.081247</td>\n",
       "      <td>0.001192</td>\n",
       "      <td>1.18</td>\n",
       "      <td>0</td>\n",
       "    </tr>\n",
       "    <tr>\n",
       "      <th>115</th>\n",
       "      <td>74.0</td>\n",
       "      <td>1.038370</td>\n",
       "      <td>0.127486</td>\n",
       "      <td>0.184456</td>\n",
       "      <td>1.109950</td>\n",
       "      <td>0.441699</td>\n",
       "      <td>0.945283</td>\n",
       "      <td>-0.036715</td>\n",
       "      <td>0.350995</td>\n",
       "      <td>0.118950</td>\n",
       "      <td>...</td>\n",
       "      <td>0.102520</td>\n",
       "      <td>0.605089</td>\n",
       "      <td>0.023092</td>\n",
       "      <td>-0.626463</td>\n",
       "      <td>0.479120</td>\n",
       "      <td>-0.166937</td>\n",
       "      <td>0.081247</td>\n",
       "      <td>0.001192</td>\n",
       "      <td>1.18</td>\n",
       "      <td>0</td>\n",
       "    </tr>\n",
       "    <tr>\n",
       "      <th>...</th>\n",
       "      <td>...</td>\n",
       "      <td>...</td>\n",
       "      <td>...</td>\n",
       "      <td>...</td>\n",
       "      <td>...</td>\n",
       "      <td>...</td>\n",
       "      <td>...</td>\n",
       "      <td>...</td>\n",
       "      <td>...</td>\n",
       "      <td>...</td>\n",
       "      <td>...</td>\n",
       "      <td>...</td>\n",
       "      <td>...</td>\n",
       "      <td>...</td>\n",
       "      <td>...</td>\n",
       "      <td>...</td>\n",
       "      <td>...</td>\n",
       "      <td>...</td>\n",
       "      <td>...</td>\n",
       "      <td>...</td>\n",
       "      <td>...</td>\n",
       "    </tr>\n",
       "    <tr>\n",
       "      <th>282987</th>\n",
       "      <td>171288.0</td>\n",
       "      <td>1.912550</td>\n",
       "      <td>-0.455240</td>\n",
       "      <td>-1.750654</td>\n",
       "      <td>0.454324</td>\n",
       "      <td>2.089130</td>\n",
       "      <td>4.160019</td>\n",
       "      <td>-0.881302</td>\n",
       "      <td>1.081750</td>\n",
       "      <td>1.022928</td>\n",
       "      <td>...</td>\n",
       "      <td>-0.524067</td>\n",
       "      <td>-1.337510</td>\n",
       "      <td>0.473943</td>\n",
       "      <td>0.616683</td>\n",
       "      <td>-0.283548</td>\n",
       "      <td>-1.084843</td>\n",
       "      <td>0.073133</td>\n",
       "      <td>-0.036020</td>\n",
       "      <td>11.99</td>\n",
       "      <td>0</td>\n",
       "    </tr>\n",
       "    <tr>\n",
       "      <th>283483</th>\n",
       "      <td>171627.0</td>\n",
       "      <td>-1.464380</td>\n",
       "      <td>1.368119</td>\n",
       "      <td>0.815992</td>\n",
       "      <td>-0.601282</td>\n",
       "      <td>-0.689115</td>\n",
       "      <td>-0.487154</td>\n",
       "      <td>-0.303778</td>\n",
       "      <td>0.884953</td>\n",
       "      <td>0.054065</td>\n",
       "      <td>...</td>\n",
       "      <td>0.287217</td>\n",
       "      <td>0.947825</td>\n",
       "      <td>-0.218773</td>\n",
       "      <td>0.082926</td>\n",
       "      <td>0.044127</td>\n",
       "      <td>0.639270</td>\n",
       "      <td>0.213565</td>\n",
       "      <td>0.119251</td>\n",
       "      <td>6.82</td>\n",
       "      <td>0</td>\n",
       "    </tr>\n",
       "    <tr>\n",
       "      <th>283485</th>\n",
       "      <td>171627.0</td>\n",
       "      <td>-1.457978</td>\n",
       "      <td>1.378203</td>\n",
       "      <td>0.811515</td>\n",
       "      <td>-0.603760</td>\n",
       "      <td>-0.711883</td>\n",
       "      <td>-0.471672</td>\n",
       "      <td>-0.282535</td>\n",
       "      <td>0.880654</td>\n",
       "      <td>0.052808</td>\n",
       "      <td>...</td>\n",
       "      <td>0.284205</td>\n",
       "      <td>0.949659</td>\n",
       "      <td>-0.216949</td>\n",
       "      <td>0.083250</td>\n",
       "      <td>0.044944</td>\n",
       "      <td>0.639933</td>\n",
       "      <td>0.219432</td>\n",
       "      <td>0.116772</td>\n",
       "      <td>11.93</td>\n",
       "      <td>0</td>\n",
       "    </tr>\n",
       "    <tr>\n",
       "      <th>284191</th>\n",
       "      <td>172233.0</td>\n",
       "      <td>-2.667936</td>\n",
       "      <td>3.160505</td>\n",
       "      <td>-3.355984</td>\n",
       "      <td>1.007845</td>\n",
       "      <td>-0.377397</td>\n",
       "      <td>-0.109730</td>\n",
       "      <td>-0.667233</td>\n",
       "      <td>2.309700</td>\n",
       "      <td>-1.639306</td>\n",
       "      <td>...</td>\n",
       "      <td>0.391483</td>\n",
       "      <td>0.266536</td>\n",
       "      <td>-0.079853</td>\n",
       "      <td>-0.096395</td>\n",
       "      <td>0.086719</td>\n",
       "      <td>-0.451128</td>\n",
       "      <td>-1.183743</td>\n",
       "      <td>-0.222200</td>\n",
       "      <td>55.66</td>\n",
       "      <td>0</td>\n",
       "    </tr>\n",
       "    <tr>\n",
       "      <th>284193</th>\n",
       "      <td>172233.0</td>\n",
       "      <td>-2.691642</td>\n",
       "      <td>3.123168</td>\n",
       "      <td>-3.339407</td>\n",
       "      <td>1.017018</td>\n",
       "      <td>-0.293095</td>\n",
       "      <td>-0.167054</td>\n",
       "      <td>-0.745886</td>\n",
       "      <td>2.325616</td>\n",
       "      <td>-1.634651</td>\n",
       "      <td>...</td>\n",
       "      <td>0.402639</td>\n",
       "      <td>0.259746</td>\n",
       "      <td>-0.086606</td>\n",
       "      <td>-0.097597</td>\n",
       "      <td>0.083693</td>\n",
       "      <td>-0.453584</td>\n",
       "      <td>-1.205466</td>\n",
       "      <td>-0.213020</td>\n",
       "      <td>36.74</td>\n",
       "      <td>0</td>\n",
       "    </tr>\n",
       "  </tbody>\n",
       "</table>\n",
       "<p>1081 rows × 31 columns</p>\n",
       "</div>"
      ],
      "text/plain": [
       "            Time        V1        V2        V3        V4        V5        V6  \\\n",
       "33          26.0 -0.529912  0.873892  1.347247  0.145457  0.414209  0.100223   \n",
       "35          26.0 -0.535388  0.865268  1.351076  0.147575  0.433680  0.086983   \n",
       "113         74.0  1.038370  0.127486  0.184456  1.109950  0.441699  0.945283   \n",
       "114         74.0  1.038370  0.127486  0.184456  1.109950  0.441699  0.945283   \n",
       "115         74.0  1.038370  0.127486  0.184456  1.109950  0.441699  0.945283   \n",
       "...          ...       ...       ...       ...       ...       ...       ...   \n",
       "282987  171288.0  1.912550 -0.455240 -1.750654  0.454324  2.089130  4.160019   \n",
       "283483  171627.0 -1.464380  1.368119  0.815992 -0.601282 -0.689115 -0.487154   \n",
       "283485  171627.0 -1.457978  1.378203  0.811515 -0.603760 -0.711883 -0.471672   \n",
       "284191  172233.0 -2.667936  3.160505 -3.355984  1.007845 -0.377397 -0.109730   \n",
       "284193  172233.0 -2.691642  3.123168 -3.339407  1.017018 -0.293095 -0.167054   \n",
       "\n",
       "              V7        V8        V9  ...       V21       V22       V23  \\\n",
       "33      0.711206  0.176066 -0.286717  ...  0.046949  0.208105 -0.185548   \n",
       "35      0.693039  0.179742 -0.285642  ...  0.049526  0.206537 -0.187108   \n",
       "113    -0.036715  0.350995  0.118950  ...  0.102520  0.605089  0.023092   \n",
       "114    -0.036715  0.350995  0.118950  ...  0.102520  0.605089  0.023092   \n",
       "115    -0.036715  0.350995  0.118950  ...  0.102520  0.605089  0.023092   \n",
       "...          ...       ...       ...  ...       ...       ...       ...   \n",
       "282987 -0.881302  1.081750  1.022928  ... -0.524067 -1.337510  0.473943   \n",
       "283483 -0.303778  0.884953  0.054065  ...  0.287217  0.947825 -0.218773   \n",
       "283485 -0.282535  0.880654  0.052808  ...  0.284205  0.949659 -0.216949   \n",
       "284191 -0.667233  2.309700 -1.639306  ...  0.391483  0.266536 -0.079853   \n",
       "284193 -0.745886  2.325616 -1.634651  ...  0.402639  0.259746 -0.086606   \n",
       "\n",
       "             V24       V25       V26       V27       V28  Amount  Class  \n",
       "33      0.001031  0.098816 -0.552904 -0.073288  0.023307    6.14      0  \n",
       "35      0.000753  0.098117 -0.553471 -0.078306  0.025427    1.77      0  \n",
       "113    -0.626463  0.479120 -0.166937  0.081247  0.001192    1.18      0  \n",
       "114    -0.626463  0.479120 -0.166937  0.081247  0.001192    1.18      0  \n",
       "115    -0.626463  0.479120 -0.166937  0.081247  0.001192    1.18      0  \n",
       "...          ...       ...       ...       ...       ...     ...    ...  \n",
       "282987  0.616683 -0.283548 -1.084843  0.073133 -0.036020   11.99      0  \n",
       "283483  0.082926  0.044127  0.639270  0.213565  0.119251    6.82      0  \n",
       "283485  0.083250  0.044944  0.639933  0.219432  0.116772   11.93      0  \n",
       "284191 -0.096395  0.086719 -0.451128 -1.183743 -0.222200   55.66      0  \n",
       "284193 -0.097597  0.083693 -0.453584 -1.205466 -0.213020   36.74      0  \n",
       "\n",
       "[1081 rows x 31 columns]"
      ]
     },
     "execution_count": 74,
     "metadata": {},
     "output_type": "execute_result"
    }
   ],
   "source": [
    "# Checking duplicate values in data\n",
    "df[df.duplicated]"
   ]
  },
  {
   "cell_type": "raw",
   "id": "ce30b668",
   "metadata": {},
   "source": [
    "1081 entries were found to be duplicate"
   ]
  },
  {
   "cell_type": "code",
   "execution_count": 75,
   "id": "73bc7337",
   "metadata": {},
   "outputs": [],
   "source": [
    "# dropping the duplicate values\n",
    "df.drop_duplicates(inplace = True)"
   ]
  },
  {
   "cell_type": "code",
   "execution_count": 76,
   "id": "395900bb",
   "metadata": {},
   "outputs": [
    {
     "data": {
      "text/html": [
       "<div>\n",
       "<style scoped>\n",
       "    .dataframe tbody tr th:only-of-type {\n",
       "        vertical-align: middle;\n",
       "    }\n",
       "\n",
       "    .dataframe tbody tr th {\n",
       "        vertical-align: top;\n",
       "    }\n",
       "\n",
       "    .dataframe thead th {\n",
       "        text-align: right;\n",
       "    }\n",
       "</style>\n",
       "<table border=\"1\" class=\"dataframe\">\n",
       "  <thead>\n",
       "    <tr style=\"text-align: right;\">\n",
       "      <th></th>\n",
       "      <th>Time</th>\n",
       "      <th>V1</th>\n",
       "      <th>V2</th>\n",
       "      <th>V3</th>\n",
       "      <th>V4</th>\n",
       "      <th>V5</th>\n",
       "      <th>V6</th>\n",
       "      <th>V7</th>\n",
       "      <th>V8</th>\n",
       "      <th>V9</th>\n",
       "      <th>...</th>\n",
       "      <th>V21</th>\n",
       "      <th>V22</th>\n",
       "      <th>V23</th>\n",
       "      <th>V24</th>\n",
       "      <th>V25</th>\n",
       "      <th>V26</th>\n",
       "      <th>V27</th>\n",
       "      <th>V28</th>\n",
       "      <th>Amount</th>\n",
       "      <th>Class</th>\n",
       "    </tr>\n",
       "  </thead>\n",
       "  <tbody>\n",
       "  </tbody>\n",
       "</table>\n",
       "<p>0 rows × 31 columns</p>\n",
       "</div>"
      ],
      "text/plain": [
       "Empty DataFrame\n",
       "Columns: [Time, V1, V2, V3, V4, V5, V6, V7, V8, V9, V10, V11, V12, V13, V14, V15, V16, V17, V18, V19, V20, V21, V22, V23, V24, V25, V26, V27, V28, Amount, Class]\n",
       "Index: []\n",
       "\n",
       "[0 rows x 31 columns]"
      ]
     },
     "execution_count": 76,
     "metadata": {},
     "output_type": "execute_result"
    }
   ],
   "source": [
    "df[df.duplicated]"
   ]
  },
  {
   "cell_type": "code",
   "execution_count": 77,
   "id": "8bf81898",
   "metadata": {},
   "outputs": [
    {
     "data": {
      "text/plain": [
       "(283726, 31)"
      ]
     },
     "execution_count": 77,
     "metadata": {},
     "output_type": "execute_result"
    }
   ],
   "source": [
    "df.shape"
   ]
  },
  {
   "cell_type": "code",
   "execution_count": 78,
   "id": "22fa00cf",
   "metadata": {},
   "outputs": [
    {
     "data": {
      "image/png": "[encoded data removed]",
      "text/plain": [
       "<Figure size 640x480 with 1 Axes>"
      ]
     },
     "metadata": {},
     "output_type": "display_data"
    }
   ],
   "source": [
    "sns.kdeplot(df['Time'], fill =True, color = 'purple')\n",
    "plt.show()"
   ]
  },
  {
   "cell_type": "code",
   "execution_count": 79,
   "id": "c22e8e8f",
   "metadata": {},
   "outputs": [
    {
     "data": {
      "image/png": "[encoded data removed]",
      "text/plain": [
       "<Figure size 640x480 with 1 Axes>"
      ]
     },
     "metadata": {},
     "output_type": "display_data"
    }
   ],
   "source": [
    "sns.kdeplot(df['Amount'], fill =True, color = 'purple')\n",
    "plt.show()"
   ]
  },
  {
   "cell_type": "code",
   "execution_count": 80,
   "id": "8513d33e",
   "metadata": {},
   "outputs": [
    {
     "data": {
      "image/png": "[encoded data removed]",
      "text/plain": [
       "<Figure size 640x480 with 1 Axes>"
      ]
     },
     "metadata": {},
     "output_type": "display_data"
    }
   ],
   "source": [
    "df.groupby(by = 'Class')['Amount'].mean().sort_values(ascending = True).plot(kind = 'bar', color = 'purple')\n",
    "plt.ylabel('Average Transaction Amount')\n",
    "plt.show()"
   ]
  },
  {
   "cell_type": "code",
   "execution_count": 81,
   "id": "5e1871bb",
   "metadata": {},
   "outputs": [
    {
     "data": {
      "text/plain": [
       "<Axes: ylabel='count'>"
      ]
     },
     "execution_count": 81,
     "metadata": {},
     "output_type": "execute_result"
    },
    {
     "data": {
      "image/png": "[encoded data removed]",
      "text/plain": [
       "<Figure size 640x480 with 1 Axes>"
      ]
     },
     "metadata": {},
     "output_type": "display_data"
    }
   ],
   "source": [
    "df['Class'].value_counts().plot(kind = 'pie', radius= 1, autopct = '%0.2f%%', colors = ['pink','purple'])"
   ]
  },
  {
   "cell_type": "code",
   "execution_count": 82,
   "id": "0a1c5169",
   "metadata": {},
   "outputs": [],
   "source": [
    "Fraud = df.loc[df['Class']==1,:]\n",
    "Not_fraud = df.loc[df['Class']==0,:]"
   ]
  },
  {
   "cell_type": "code",
   "execution_count": 83,
   "id": "b703ded8",
   "metadata": {},
   "outputs": [
    {
     "data": {
      "text/plain": [
       "count     473.000000\n",
       "mean      123.871860\n",
       "std       260.211041\n",
       "min         0.000000\n",
       "25%         1.000000\n",
       "50%         9.820000\n",
       "75%       105.890000\n",
       "max      2125.870000\n",
       "Name: Amount, dtype: float64"
      ]
     },
     "execution_count": 83,
     "metadata": {},
     "output_type": "execute_result"
    }
   ],
   "source": [
    "Fraud.describe()['Amount']"
   ]
  },
  {
   "cell_type": "code",
   "execution_count": 84,
   "id": "cd642d77",
   "metadata": {},
   "outputs": [
    {
     "data": {
      "text/plain": [
       "count    283253.000000\n",
       "mean         88.413575\n",
       "std         250.379023\n",
       "min           0.000000\n",
       "25%           5.670000\n",
       "50%          22.000000\n",
       "75%          77.460000\n",
       "max       25691.160000\n",
       "Name: Amount, dtype: float64"
      ]
     },
     "execution_count": 84,
     "metadata": {},
     "output_type": "execute_result"
    }
   ],
   "source": [
    "Not_fraud.describe()['Amount']"
   ]
  },
  {
   "cell_type": "code",
   "execution_count": 85,
   "id": "3de16699",
   "metadata": {},
   "outputs": [
    {
     "data": {
      "text/plain": [
       "Class     1.000000\n",
       "V11       0.149067\n",
       "V4        0.129326\n",
       "V2        0.084624\n",
       "V19       0.033631\n",
       "V8        0.033068\n",
       "V21       0.026357\n",
       "V27       0.021892\n",
       "V20       0.021486\n",
       "V28       0.009682\n",
       "Amount    0.005777\n",
       "V22       0.004887\n",
       "V26       0.004265\n",
       "V25       0.003202\n",
       "V15      -0.003300\n",
       "V13      -0.003897\n",
       "V23      -0.006333\n",
       "V24      -0.007210\n",
       "Time     -0.012359\n",
       "V6       -0.043915\n",
       "V5       -0.087812\n",
       "V9       -0.094021\n",
       "V1       -0.094486\n",
       "V18      -0.105340\n",
       "V7       -0.172347\n",
       "V3       -0.182322\n",
       "V16      -0.187186\n",
       "V10      -0.206971\n",
       "V12      -0.250711\n",
       "V14      -0.293375\n",
       "V17      -0.313498\n",
       "Name: Class, dtype: float64"
      ]
     },
     "execution_count": 85,
     "metadata": {},
     "output_type": "execute_result"
    }
   ],
   "source": [
    "df.corr()['Class'].sort_values(ascending=False)"
   ]
  },
  {
   "cell_type": "code",
   "execution_count": 86,
   "id": "6ee165f0",
   "metadata": {},
   "outputs": [
    {
     "data": {
      "text/plain": [
       "<Axes: >"
      ]
     },
     "execution_count": 86,
     "metadata": {},
     "output_type": "execute_result"
    },
    {
     "data": {
      "image/png": "[encoded data removed]",
      "text/plain": [
       "<Figure size 640x480 with 2 Axes>"
      ]
     },
     "metadata": {},
     "output_type": "display_data"
    }
   ],
   "source": [
    "sns.heatmap(df.corr(), vmin = -1, vmax = 1, cmap = 'rocket')"
   ]
  },
  {
   "cell_type": "raw",
   "id": "a1696251",
   "metadata": {},
   "source": [
    "Attritubes selected for outlier treatment are-\n",
    "V11, V4, V2, V12, V14, V17\n",
    "Because they are the factors which are influencing the dependent variable with higher intensity (either positively or negatively)"
   ]
  },
  {
   "cell_type": "markdown",
   "id": "d0fb2a21",
   "metadata": {},
   "source": [
    "### Outlier Treatment"
   ]
  },
  {
   "cell_type": "code",
   "execution_count": 87,
   "id": "d7de13a1",
   "metadata": {},
   "outputs": [],
   "source": [
    "attributes = ['V11', 'V4', 'V2', 'V12', 'V14', 'V17']"
   ]
  },
  {
   "cell_type": "code",
   "execution_count": 88,
   "id": "01a17ae9",
   "metadata": {},
   "outputs": [
    {
     "data": {
      "image/png": "[encoded data removed]",
      "text/plain": [
       "<Figure size 700x700 with 6 Axes>"
      ]
     },
     "metadata": {},
     "output_type": "display_data"
    }
   ],
   "source": [
    "t = 1\n",
    "plt.figure(figsize = (7,7))\n",
    "plt.suptitle('Attributes before outlier treatment', color = 'purple', size = 15)\n",
    "for i in attributes:\n",
    "    plt.subplot(3,2,t)\n",
    "    sns.boxplot(df[i], color = 'purple')\n",
    "    plt.xlabel(i)\n",
    "    t = t+1\n",
    "plt.subplots_adjust(hspace=0.7, wspace=0.4)\n",
    "plt.show()"
   ]
  },
  {
   "cell_type": "code",
   "execution_count": 89,
   "id": "ace0a84b",
   "metadata": {},
   "outputs": [],
   "source": [
    "for i in attributes:\n",
    "    q1, q3 = df[i].quantile([0.25,0.75])\n",
    "    iqr = q3-q1\n",
    "    ll = q1-1.5*iqr\n",
    "    ul = q3+1.5*iqr\n",
    "    df1 = df[(df[i]>ul)|(df[i]<ll)]\n",
    "    df[i] = df[i].apply(lambda x: ul if x>ul else ll if x<ll else x)"
   ]
  },
  {
   "cell_type": "code",
   "execution_count": 90,
   "id": "aa3cabde",
   "metadata": {},
   "outputs": [
    {
     "data": {
      "text/html": [
       "<div>\n",
       "<style scoped>\n",
       "    .dataframe tbody tr th:only-of-type {\n",
       "        vertical-align: middle;\n",
       "    }\n",
       "\n",
       "    .dataframe tbody tr th {\n",
       "        vertical-align: top;\n",
       "    }\n",
       "\n",
       "    .dataframe thead th {\n",
       "        text-align: right;\n",
       "    }\n",
       "</style>\n",
       "<table border=\"1\" class=\"dataframe\">\n",
       "  <thead>\n",
       "    <tr style=\"text-align: right;\">\n",
       "      <th></th>\n",
       "      <th>Time</th>\n",
       "      <th>V1</th>\n",
       "      <th>V2</th>\n",
       "      <th>V3</th>\n",
       "      <th>V4</th>\n",
       "      <th>V5</th>\n",
       "      <th>V6</th>\n",
       "      <th>V7</th>\n",
       "      <th>V8</th>\n",
       "      <th>V9</th>\n",
       "      <th>...</th>\n",
       "      <th>V21</th>\n",
       "      <th>V22</th>\n",
       "      <th>V23</th>\n",
       "      <th>V24</th>\n",
       "      <th>V25</th>\n",
       "      <th>V26</th>\n",
       "      <th>V27</th>\n",
       "      <th>V28</th>\n",
       "      <th>Amount</th>\n",
       "      <th>Class</th>\n",
       "    </tr>\n",
       "  </thead>\n",
       "  <tbody>\n",
       "    <tr>\n",
       "      <th>82</th>\n",
       "      <td>52.0</td>\n",
       "      <td>-3.005237</td>\n",
       "      <td>2.600138</td>\n",
       "      <td>1.483691</td>\n",
       "      <td>-2.418473</td>\n",
       "      <td>0.306326</td>\n",
       "      <td>-0.824575</td>\n",
       "      <td>2.065426</td>\n",
       "      <td>-1.829347</td>\n",
       "      <td>4.009259</td>\n",
       "      <td>...</td>\n",
       "      <td>-0.852309</td>\n",
       "      <td>-0.181268</td>\n",
       "      <td>-0.163747</td>\n",
       "      <td>0.515821</td>\n",
       "      <td>0.136318</td>\n",
       "      <td>0.460054</td>\n",
       "      <td>-0.251259</td>\n",
       "      <td>-1.105751</td>\n",
       "      <td>1.46</td>\n",
       "      <td>0</td>\n",
       "    </tr>\n",
       "    <tr>\n",
       "      <th>102</th>\n",
       "      <td>69.0</td>\n",
       "      <td>0.298503</td>\n",
       "      <td>2.142722</td>\n",
       "      <td>-1.542143</td>\n",
       "      <td>1.561332</td>\n",
       "      <td>0.938108</td>\n",
       "      <td>-2.145673</td>\n",
       "      <td>1.405569</td>\n",
       "      <td>-0.778459</td>\n",
       "      <td>0.328636</td>\n",
       "      <td>...</td>\n",
       "      <td>-0.290987</td>\n",
       "      <td>-0.000235</td>\n",
       "      <td>0.092174</td>\n",
       "      <td>0.586205</td>\n",
       "      <td>-0.397314</td>\n",
       "      <td>-0.480949</td>\n",
       "      <td>0.251145</td>\n",
       "      <td>-0.242279</td>\n",
       "      <td>0.78</td>\n",
       "      <td>0</td>\n",
       "    </tr>\n",
       "    <tr>\n",
       "      <th>108</th>\n",
       "      <td>73.0</td>\n",
       "      <td>1.162281</td>\n",
       "      <td>1.248178</td>\n",
       "      <td>-1.581317</td>\n",
       "      <td>1.475024</td>\n",
       "      <td>1.138357</td>\n",
       "      <td>-1.020373</td>\n",
       "      <td>0.638387</td>\n",
       "      <td>-0.136762</td>\n",
       "      <td>-0.805505</td>\n",
       "      <td>...</td>\n",
       "      <td>-0.124012</td>\n",
       "      <td>-0.227150</td>\n",
       "      <td>-0.199185</td>\n",
       "      <td>-0.289757</td>\n",
       "      <td>0.776244</td>\n",
       "      <td>-0.283950</td>\n",
       "      <td>0.056747</td>\n",
       "      <td>0.084706</td>\n",
       "      <td>1.00</td>\n",
       "      <td>0</td>\n",
       "    </tr>\n",
       "    <tr>\n",
       "      <th>119</th>\n",
       "      <td>77.0</td>\n",
       "      <td>-1.165722</td>\n",
       "      <td>1.485337</td>\n",
       "      <td>0.156418</td>\n",
       "      <td>0.924378</td>\n",
       "      <td>0.131746</td>\n",
       "      <td>0.996965</td>\n",
       "      <td>-0.167117</td>\n",
       "      <td>1.262617</td>\n",
       "      <td>-0.584844</td>\n",
       "      <td>...</td>\n",
       "      <td>0.314752</td>\n",
       "      <td>1.046648</td>\n",
       "      <td>0.156404</td>\n",
       "      <td>-0.628123</td>\n",
       "      <td>-0.702367</td>\n",
       "      <td>-0.224025</td>\n",
       "      <td>0.145425</td>\n",
       "      <td>0.116398</td>\n",
       "      <td>11.83</td>\n",
       "      <td>0</td>\n",
       "    </tr>\n",
       "    <tr>\n",
       "      <th>134</th>\n",
       "      <td>83.0</td>\n",
       "      <td>-1.897331</td>\n",
       "      <td>0.955626</td>\n",
       "      <td>0.052543</td>\n",
       "      <td>1.276656</td>\n",
       "      <td>-3.323084</td>\n",
       "      <td>3.229911</td>\n",
       "      <td>1.029631</td>\n",
       "      <td>1.515607</td>\n",
       "      <td>-0.059627</td>\n",
       "      <td>...</td>\n",
       "      <td>0.128416</td>\n",
       "      <td>0.776078</td>\n",
       "      <td>0.477537</td>\n",
       "      <td>-0.608981</td>\n",
       "      <td>-1.120892</td>\n",
       "      <td>-0.413851</td>\n",
       "      <td>0.061399</td>\n",
       "      <td>-0.187964</td>\n",
       "      <td>552.18</td>\n",
       "      <td>0</td>\n",
       "    </tr>\n",
       "    <tr>\n",
       "      <th>...</th>\n",
       "      <td>...</td>\n",
       "      <td>...</td>\n",
       "      <td>...</td>\n",
       "      <td>...</td>\n",
       "      <td>...</td>\n",
       "      <td>...</td>\n",
       "      <td>...</td>\n",
       "      <td>...</td>\n",
       "      <td>...</td>\n",
       "      <td>...</td>\n",
       "      <td>...</td>\n",
       "      <td>...</td>\n",
       "      <td>...</td>\n",
       "      <td>...</td>\n",
       "      <td>...</td>\n",
       "      <td>...</td>\n",
       "      <td>...</td>\n",
       "      <td>...</td>\n",
       "      <td>...</td>\n",
       "      <td>...</td>\n",
       "      <td>...</td>\n",
       "    </tr>\n",
       "    <tr>\n",
       "      <th>284633</th>\n",
       "      <td>172625.0</td>\n",
       "      <td>-1.656560</td>\n",
       "      <td>-0.303334</td>\n",
       "      <td>-1.090303</td>\n",
       "      <td>0.908557</td>\n",
       "      <td>-0.014432</td>\n",
       "      <td>-0.783958</td>\n",
       "      <td>1.664815</td>\n",
       "      <td>0.163085</td>\n",
       "      <td>-0.401611</td>\n",
       "      <td>...</td>\n",
       "      <td>0.242880</td>\n",
       "      <td>-0.111603</td>\n",
       "      <td>0.625198</td>\n",
       "      <td>-0.287188</td>\n",
       "      <td>0.153288</td>\n",
       "      <td>-0.148358</td>\n",
       "      <td>-0.057845</td>\n",
       "      <td>0.042227</td>\n",
       "      <td>387.92</td>\n",
       "      <td>0</td>\n",
       "    </tr>\n",
       "    <tr>\n",
       "      <th>284638</th>\n",
       "      <td>172629.0</td>\n",
       "      <td>-1.691097</td>\n",
       "      <td>-0.066182</td>\n",
       "      <td>-0.746594</td>\n",
       "      <td>-0.496544</td>\n",
       "      <td>0.867330</td>\n",
       "      <td>-1.118658</td>\n",
       "      <td>2.945484</td>\n",
       "      <td>-0.510813</td>\n",
       "      <td>-1.083929</td>\n",
       "      <td>...</td>\n",
       "      <td>0.162968</td>\n",
       "      <td>-0.292177</td>\n",
       "      <td>0.422693</td>\n",
       "      <td>-0.209257</td>\n",
       "      <td>1.071036</td>\n",
       "      <td>0.669654</td>\n",
       "      <td>-0.388434</td>\n",
       "      <td>-0.099326</td>\n",
       "      <td>430.00</td>\n",
       "      <td>0</td>\n",
       "    </tr>\n",
       "    <tr>\n",
       "      <th>284719</th>\n",
       "      <td>172710.0</td>\n",
       "      <td>-1.277262</td>\n",
       "      <td>1.220425</td>\n",
       "      <td>0.242496</td>\n",
       "      <td>-0.569520</td>\n",
       "      <td>0.279860</td>\n",
       "      <td>1.338384</td>\n",
       "      <td>0.850880</td>\n",
       "      <td>-1.294627</td>\n",
       "      <td>0.187376</td>\n",
       "      <td>...</td>\n",
       "      <td>1.302757</td>\n",
       "      <td>-0.836415</td>\n",
       "      <td>-0.073722</td>\n",
       "      <td>-1.206612</td>\n",
       "      <td>0.429807</td>\n",
       "      <td>0.239488</td>\n",
       "      <td>0.246824</td>\n",
       "      <td>0.029778</td>\n",
       "      <td>157.04</td>\n",
       "      <td>0</td>\n",
       "    </tr>\n",
       "    <tr>\n",
       "      <th>284782</th>\n",
       "      <td>172767.0</td>\n",
       "      <td>-0.268061</td>\n",
       "      <td>2.540315</td>\n",
       "      <td>-1.400915</td>\n",
       "      <td>3.124319</td>\n",
       "      <td>0.639105</td>\n",
       "      <td>0.186479</td>\n",
       "      <td>-0.045911</td>\n",
       "      <td>0.936448</td>\n",
       "      <td>-2.419986</td>\n",
       "      <td>...</td>\n",
       "      <td>-0.263889</td>\n",
       "      <td>-0.857904</td>\n",
       "      <td>0.235172</td>\n",
       "      <td>-0.681794</td>\n",
       "      <td>-0.668894</td>\n",
       "      <td>0.044657</td>\n",
       "      <td>-0.066751</td>\n",
       "      <td>-0.072447</td>\n",
       "      <td>12.82</td>\n",
       "      <td>0</td>\n",
       "    </tr>\n",
       "    <tr>\n",
       "      <th>284802</th>\n",
       "      <td>172786.0</td>\n",
       "      <td>-11.881118</td>\n",
       "      <td>2.901188</td>\n",
       "      <td>-9.834783</td>\n",
       "      <td>-2.066656</td>\n",
       "      <td>-5.364473</td>\n",
       "      <td>-2.606837</td>\n",
       "      <td>-4.918215</td>\n",
       "      <td>7.305334</td>\n",
       "      <td>1.914428</td>\n",
       "      <td>...</td>\n",
       "      <td>0.213454</td>\n",
       "      <td>0.111864</td>\n",
       "      <td>1.014480</td>\n",
       "      <td>-0.509348</td>\n",
       "      <td>1.436807</td>\n",
       "      <td>0.250034</td>\n",
       "      <td>0.943651</td>\n",
       "      <td>0.823731</td>\n",
       "      <td>0.77</td>\n",
       "      <td>0</td>\n",
       "    </tr>\n",
       "  </tbody>\n",
       "</table>\n",
       "<p>7353 rows × 31 columns</p>\n",
       "</div>"
      ],
      "text/plain": [
       "            Time         V1        V2        V3        V4        V5        V6  \\\n",
       "82          52.0  -3.005237  2.600138  1.483691 -2.418473  0.306326 -0.824575   \n",
       "102         69.0   0.298503  2.142722 -1.542143  1.561332  0.938108 -2.145673   \n",
       "108         73.0   1.162281  1.248178 -1.581317  1.475024  1.138357 -1.020373   \n",
       "119         77.0  -1.165722  1.485337  0.156418  0.924378  0.131746  0.996965   \n",
       "134         83.0  -1.897331  0.955626  0.052543  1.276656 -3.323084  3.229911   \n",
       "...          ...        ...       ...       ...       ...       ...       ...   \n",
       "284633  172625.0  -1.656560 -0.303334 -1.090303  0.908557 -0.014432 -0.783958   \n",
       "284638  172629.0  -1.691097 -0.066182 -0.746594 -0.496544  0.867330 -1.118658   \n",
       "284719  172710.0  -1.277262  1.220425  0.242496 -0.569520  0.279860  1.338384   \n",
       "284782  172767.0  -0.268061  2.540315 -1.400915  3.124319  0.639105  0.186479   \n",
       "284802  172786.0 -11.881118  2.901188 -9.834783 -2.066656 -5.364473 -2.606837   \n",
       "\n",
       "              V7        V8        V9  ...       V21       V22       V23  \\\n",
       "82      2.065426 -1.829347  4.009259  ... -0.852309 -0.181268 -0.163747   \n",
       "102     1.405569 -0.778459  0.328636  ... -0.290987 -0.000235  0.092174   \n",
       "108     0.638387 -0.136762 -0.805505  ... -0.124012 -0.227150 -0.199185   \n",
       "119    -0.167117  1.262617 -0.584844  ...  0.314752  1.046648  0.156404   \n",
       "134     1.029631  1.515607 -0.059627  ...  0.128416  0.776078  0.477537   \n",
       "...          ...       ...       ...  ...       ...       ...       ...   \n",
       "284633  1.664815  0.163085 -0.401611  ...  0.242880 -0.111603  0.625198   \n",
       "284638  2.945484 -0.510813 -1.083929  ...  0.162968 -0.292177  0.422693   \n",
       "284719  0.850880 -1.294627  0.187376  ...  1.302757 -0.836415 -0.073722   \n",
       "284782 -0.045911  0.936448 -2.419986  ... -0.263889 -0.857904  0.235172   \n",
       "284802 -4.918215  7.305334  1.914428  ...  0.213454  0.111864  1.014480   \n",
       "\n",
       "             V24       V25       V26       V27       V28  Amount  Class  \n",
       "82      0.515821  0.136318  0.460054 -0.251259 -1.105751    1.46      0  \n",
       "102     0.586205 -0.397314 -0.480949  0.251145 -0.242279    0.78      0  \n",
       "108    -0.289757  0.776244 -0.283950  0.056747  0.084706    1.00      0  \n",
       "119    -0.628123 -0.702367 -0.224025  0.145425  0.116398   11.83      0  \n",
       "134    -0.608981 -1.120892 -0.413851  0.061399 -0.187964  552.18      0  \n",
       "...          ...       ...       ...       ...       ...     ...    ...  \n",
       "284633 -0.287188  0.153288 -0.148358 -0.057845  0.042227  387.92      0  \n",
       "284638 -0.209257  1.071036  0.669654 -0.388434 -0.099326  430.00      0  \n",
       "284719 -1.206612  0.429807  0.239488  0.246824  0.029778  157.04      0  \n",
       "284782 -0.681794 -0.668894  0.044657 -0.066751 -0.072447   12.82      0  \n",
       "284802 -0.509348  1.436807  0.250034  0.943651  0.823731    0.77      0  \n",
       "\n",
       "[7353 rows x 31 columns]"
      ]
     },
     "execution_count": 90,
     "metadata": {},
     "output_type": "execute_result"
    }
   ],
   "source": [
    "df1"
   ]
  },
  {
   "cell_type": "code",
   "execution_count": 91,
   "id": "d035a61c",
   "metadata": {},
   "outputs": [
    {
     "data": {
      "image/png": "[encoded data removed]",
      "text/plain": [
       "<Figure size 700x700 with 6 Axes>"
      ]
     },
     "metadata": {},
     "output_type": "display_data"
    }
   ],
   "source": [
    "t = 1\n",
    "plt.figure(figsize = (7,7))\n",
    "plt.suptitle('Attributes after outlier capping', color = 'purple', size = 15)\n",
    "for i in attributes:\n",
    "    plt.subplot(3,2,t)\n",
    "    sns.boxplot(df[i], color = 'purple')\n",
    "    plt.xlabel(i)\n",
    "    t = t+1\n",
    "plt.subplots_adjust(hspace=0.7, wspace=0.4)\n",
    "plt.show()"
   ]
  },
  {
   "cell_type": "code",
   "execution_count": 92,
   "id": "bd3ed8bb",
   "metadata": {},
   "outputs": [],
   "source": [
    "Q1, Q3 = df['Amount'].quantile([0.25,0.75])\n",
    "IQR = Q3-Q1\n",
    "LL = Q1-1.5*IQR\n",
    "UL = Q3+1.5*IQR\n",
    "df1 = df[(df['Amount']>UL)|(df['Amount']<LL)]\n",
    "df['Amount']=df['Amount'].transform(lambda x: UL if x>UL else LL if x<LL else x)"
   ]
  },
  {
   "cell_type": "code",
   "execution_count": 93,
   "id": "77b7ffce",
   "metadata": {},
   "outputs": [
    {
     "data": {
      "image/png": "[encoded data removed]",
      "text/plain": [
       "<Figure size 640x480 with 1 Axes>"
      ]
     },
     "metadata": {},
     "output_type": "display_data"
    }
   ],
   "source": [
    "sns.boxplot(df, x = 'Amount', color = 'purple')\n",
    "plt.show()"
   ]
  },
  {
   "cell_type": "code",
   "execution_count": 94,
   "id": "3e953be9",
   "metadata": {},
   "outputs": [],
   "source": [
    "dfm = df[attributes]"
   ]
  },
  {
   "cell_type": "code",
   "execution_count": 95,
   "id": "e288510d",
   "metadata": {},
   "outputs": [],
   "source": [
    "dfm['Amount'] = df['Amount']"
   ]
  },
  {
   "cell_type": "code",
   "execution_count": 96,
   "id": "2d933697",
   "metadata": {},
   "outputs": [],
   "source": [
    "dfm[['Time','Class']] = df[['Time', 'Class']]"
   ]
  },
  {
   "cell_type": "code",
   "execution_count": 97,
   "id": "a0ea4089",
   "metadata": {},
   "outputs": [
    {
     "data": {
      "text/html": [
       "<div>\n",
       "<style scoped>\n",
       "    .dataframe tbody tr th:only-of-type {\n",
       "        vertical-align: middle;\n",
       "    }\n",
       "\n",
       "    .dataframe tbody tr th {\n",
       "        vertical-align: top;\n",
       "    }\n",
       "\n",
       "    .dataframe thead th {\n",
       "        text-align: right;\n",
       "    }\n",
       "</style>\n",
       "<table border=\"1\" class=\"dataframe\">\n",
       "  <thead>\n",
       "    <tr style=\"text-align: right;\">\n",
       "      <th></th>\n",
       "      <th>V11</th>\n",
       "      <th>V4</th>\n",
       "      <th>V2</th>\n",
       "      <th>V12</th>\n",
       "      <th>V14</th>\n",
       "      <th>V17</th>\n",
       "      <th>Amount</th>\n",
       "      <th>Time</th>\n",
       "      <th>Class</th>\n",
       "    </tr>\n",
       "  </thead>\n",
       "  <tbody>\n",
       "    <tr>\n",
       "      <th>0</th>\n",
       "      <td>-0.551600</td>\n",
       "      <td>1.378155</td>\n",
       "      <td>-0.072781</td>\n",
       "      <td>-0.617801</td>\n",
       "      <td>-0.311169</td>\n",
       "      <td>0.207971</td>\n",
       "      <td>149.620</td>\n",
       "      <td>0.0</td>\n",
       "      <td>0</td>\n",
       "    </tr>\n",
       "    <tr>\n",
       "      <th>1</th>\n",
       "      <td>1.612727</td>\n",
       "      <td>0.448154</td>\n",
       "      <td>0.266151</td>\n",
       "      <td>1.065235</td>\n",
       "      <td>-0.143772</td>\n",
       "      <td>-0.114805</td>\n",
       "      <td>2.690</td>\n",
       "      <td>0.0</td>\n",
       "      <td>0</td>\n",
       "    </tr>\n",
       "    <tr>\n",
       "      <th>2</th>\n",
       "      <td>0.624501</td>\n",
       "      <td>0.379780</td>\n",
       "      <td>-1.340163</td>\n",
       "      <td>0.066084</td>\n",
       "      <td>-0.165946</td>\n",
       "      <td>1.109969</td>\n",
       "      <td>185.375</td>\n",
       "      <td>1.0</td>\n",
       "      <td>0</td>\n",
       "    </tr>\n",
       "    <tr>\n",
       "      <th>3</th>\n",
       "      <td>-0.226487</td>\n",
       "      <td>-0.863291</td>\n",
       "      <td>-0.185226</td>\n",
       "      <td>0.178228</td>\n",
       "      <td>-0.287924</td>\n",
       "      <td>-0.684093</td>\n",
       "      <td>123.500</td>\n",
       "      <td>1.0</td>\n",
       "      <td>0</td>\n",
       "    </tr>\n",
       "    <tr>\n",
       "      <th>4</th>\n",
       "      <td>-0.822843</td>\n",
       "      <td>0.403034</td>\n",
       "      <td>0.877737</td>\n",
       "      <td>0.538196</td>\n",
       "      <td>-1.119670</td>\n",
       "      <td>-0.237033</td>\n",
       "      <td>69.990</td>\n",
       "      <td>2.0</td>\n",
       "      <td>0</td>\n",
       "    </tr>\n",
       "  </tbody>\n",
       "</table>\n",
       "</div>"
      ],
      "text/plain": [
       "        V11        V4        V2       V12       V14       V17   Amount  Time  \\\n",
       "0 -0.551600  1.378155 -0.072781 -0.617801 -0.311169  0.207971  149.620   0.0   \n",
       "1  1.612727  0.448154  0.266151  1.065235 -0.143772 -0.114805    2.690   0.0   \n",
       "2  0.624501  0.379780 -1.340163  0.066084 -0.165946  1.109969  185.375   1.0   \n",
       "3 -0.226487 -0.863291 -0.185226  0.178228 -0.287924 -0.684093  123.500   1.0   \n",
       "4 -0.822843  0.403034  0.877737  0.538196 -1.119670 -0.237033   69.990   2.0   \n",
       "\n",
       "   Class  \n",
       "0      0  \n",
       "1      0  \n",
       "2      0  \n",
       "3      0  \n",
       "4      0  "
      ]
     },
     "execution_count": 97,
     "metadata": {},
     "output_type": "execute_result"
    }
   ],
   "source": [
    "dfm.head()"
   ]
  },
  {
   "cell_type": "markdown",
   "id": "72da9d24",
   "metadata": {},
   "source": [
    "### Train_test_split"
   ]
  },
  {
   "cell_type": "code",
   "execution_count": 98,
   "id": "f39d282a",
   "metadata": {},
   "outputs": [],
   "source": [
    "from sklearn.model_selection import train_test_split"
   ]
  },
  {
   "cell_type": "code",
   "execution_count": 99,
   "id": "af79f86d",
   "metadata": {},
   "outputs": [],
   "source": [
    "y = dfm['Class']\n",
    "x = dfm.loc[:, dfm.columns != 'Class']"
   ]
  },
  {
   "cell_type": "code",
   "execution_count": 100,
   "id": "1a3c5077",
   "metadata": {},
   "outputs": [],
   "source": [
    "x_train,x_test,y_train,y_test = train_test_split(x, y, random_state=0, test_size= 0.2, stratify=y)"
   ]
  },
  {
   "cell_type": "code",
   "execution_count": 101,
   "id": "a18e7f41",
   "metadata": {},
   "outputs": [
    {
     "name": "stdout",
     "output_type": "stream",
     "text": [
      "(226980, 8) (56746, 8) (226980,) (56746,)\n"
     ]
    }
   ],
   "source": [
    "print(x_train.shape, x_test.shape, y_train.shape, y_test.shape)"
   ]
  },
  {
   "cell_type": "code",
   "execution_count": 102,
   "id": "00cebf24",
   "metadata": {},
   "outputs": [
    {
     "data": {
      "text/plain": [
       "Class\n",
       "0    226602\n",
       "1       378\n",
       "Name: count, dtype: int64"
      ]
     },
     "execution_count": 102,
     "metadata": {},
     "output_type": "execute_result"
    }
   ],
   "source": [
    "y_train.value_counts()"
   ]
  },
  {
   "cell_type": "raw",
   "id": "68f4401f",
   "metadata": {},
   "source": [
    "Target variable is highly unbalanced, hence we can use SMOTE to balance the target variable which can lead to accurate predictions"
   ]
  },
  {
   "cell_type": "code",
   "execution_count": 103,
   "id": "0aaa117e",
   "metadata": {},
   "outputs": [],
   "source": [
    "from imblearn.over_sampling import SMOTE"
   ]
  },
  {
   "cell_type": "code",
   "execution_count": 104,
   "id": "13b65be1",
   "metadata": {},
   "outputs": [],
   "source": [
    "st = SMOTE(sampling_strategy=0.9)\n",
    "x_train_s, y_train_s = st.fit_resample(x_train,y_train)"
   ]
  },
  {
   "cell_type": "code",
   "execution_count": 105,
   "id": "34be2112",
   "metadata": {},
   "outputs": [
    {
     "data": {
      "text/plain": [
       "Class\n",
       "0    0.526317\n",
       "1    0.473683\n",
       "Name: proportion, dtype: float64"
      ]
     },
     "execution_count": 105,
     "metadata": {},
     "output_type": "execute_result"
    }
   ],
   "source": [
    "y_train_s.value_counts(normalize=True)"
   ]
  },
  {
   "cell_type": "markdown",
   "id": "7e6f6da5",
   "metadata": {},
   "source": [
    "### Logistic Regression (Base Model)"
   ]
  },
  {
   "cell_type": "code",
   "execution_count": 106,
   "id": "4ce89dd0",
   "metadata": {},
   "outputs": [],
   "source": [
    "from sklearn.linear_model import LogisticRegression\n",
    "from sklearn.neighbors import KNeighborsClassifier\n",
    "from xgboost import XGBClassifier\n",
    "from sklearn.model_selection import GridSearchCV, cross_val_score\n",
    "\n",
    "from sklearn.metrics import confusion_matrix, f1_score, precision_score, recall_score, accuracy_score, roc_auc_score, roc_curve, classification_report"
   ]
  },
  {
   "cell_type": "code",
   "execution_count": 107,
   "id": "5eed09ed",
   "metadata": {},
   "outputs": [],
   "source": [
    "lr = LogisticRegression(penalty='l2')\n",
    "model_lr = lr.fit(x_train_s, y_train_s)"
   ]
  },
  {
   "cell_type": "code",
   "execution_count": 108,
   "id": "13f8e86f",
   "metadata": {},
   "outputs": [],
   "source": [
    "y_preds_lr = model_lr.predict_proba(x_test)[:,1]\n",
    "y_predh_lr = (y_preds_lr>0.5).astype(int)"
   ]
  },
  {
   "cell_type": "code",
   "execution_count": 109,
   "id": "0274bce2",
   "metadata": {},
   "outputs": [
    {
     "name": "stdout",
     "output_type": "stream",
     "text": [
      "Confusion_Matrix: [[50617  6034]\n",
      " [    8    87]]\n",
      "f1_score: 0.027992277992277995\n",
      "roc_auc_score: 0.9046388366814726\n",
      "Classification Report:               precision    recall  f1-score   support\n",
      "\n",
      "           0       1.00      0.89      0.94     56651\n",
      "           1       0.01      0.92      0.03        95\n",
      "\n",
      "    accuracy                           0.89     56746\n",
      "   macro avg       0.51      0.90      0.49     56746\n",
      "weighted avg       1.00      0.89      0.94     56746\n",
      "\n"
     ]
    }
   ],
   "source": [
    "print(f'Confusion_Matrix: {confusion_matrix(y_test,y_predh_lr)}')\n",
    "print(f'f1_score: {f1_score(y_test,y_predh_lr)}')\n",
    "print(f'roc_auc_score: {roc_auc_score(y_test,y_predh_lr)}')\n",
    "print(f'Classification Report: {classification_report(y_test,y_predh_lr)}')"
   ]
  },
  {
   "cell_type": "code",
   "execution_count": 110,
   "id": "cf8ac717",
   "metadata": {},
   "outputs": [
    {
     "data": {
      "image/png": "[encoded data removed]",
      "text/plain": [
       "<Figure size 640x480 with 1 Axes>"
      ]
     },
     "metadata": {},
     "output_type": "display_data"
    }
   ],
   "source": [
    "fpr,tpr,threshold = roc_curve(y_test,y_preds_lr)\n",
    "plt.plot(fpr,tpr)\n",
    "plt.plot([0,1],[0,1],color='red',ls='--')\n",
    "plt.title(f'ROC AUC: {round(roc_auc_score(y_test,y_preds_lr),4)}')\n",
    "plt.show()"
   ]
  },
  {
   "cell_type": "markdown",
   "id": "de0d05df",
   "metadata": {},
   "source": [
    "### KNN Classifier "
   ]
  },
  {
   "cell_type": "code",
   "execution_count": 111,
   "id": "46d87bde",
   "metadata": {},
   "outputs": [],
   "source": [
    "# In order to use KNN we need to standardize all the numerical variables, since attributes used to make model are already \n",
    "# standardized other than time and amount, hence these two are standardized below using Standard Scaler"
   ]
  },
  {
   "cell_type": "code",
   "execution_count": 112,
   "id": "c3b8b229",
   "metadata": {},
   "outputs": [],
   "source": [
    "from sklearn.preprocessing import StandardScaler"
   ]
  },
  {
   "cell_type": "code",
   "execution_count": 113,
   "id": "603f0494",
   "metadata": {},
   "outputs": [],
   "source": [
    "x_train_ss = x_train_s.copy()\n",
    "x_test_ss = x_test.copy()"
   ]
  },
  {
   "cell_type": "code",
   "execution_count": 115,
   "id": "181d9c2b",
   "metadata": {},
   "outputs": [],
   "source": [
    "ss = StandardScaler()\n",
    "x_train_ss[['Time', 'Amount']] = ss.fit_transform(x_train_ss[['Time', 'Amount']])"
   ]
  },
  {
   "cell_type": "code",
   "execution_count": 117,
   "id": "74e420e8",
   "metadata": {},
   "outputs": [],
   "source": [
    "x_test_ss[['Time','Amount']]= ss.transform(x_test_ss[['Time','Amount']])"
   ]
  },
  {
   "cell_type": "code",
   "execution_count": 121,
   "id": "91ae5a93",
   "metadata": {},
   "outputs": [],
   "source": [
    "knn = KNeighborsClassifier(n_neighbors=10, weights='distance')\n",
    "model_knn = knn.fit(x_train_ss,y_train_s)"
   ]
  },
  {
   "cell_type": "code",
   "execution_count": 122,
   "id": "91b61204",
   "metadata": {},
   "outputs": [],
   "source": [
    "y_preds_knn = model_knn.predict_proba(x_test_ss)[:,1]\n",
    "y_predh_knn = (y_preds_knn>0.5).astype(int)"
   ]
  },
  {
   "cell_type": "code",
   "execution_count": 125,
   "id": "a10d05e8",
   "metadata": {},
   "outputs": [
    {
     "name": "stdout",
     "output_type": "stream",
     "text": [
      "Confusion_Matrix: [[56341   310]\n",
      " [   14    81]]\n",
      "f1_score: 0.33333333333333337\n",
      "roc_auc_score: 0.9235797389185307\n",
      "              precision    recall  f1-score   support\n",
      "\n",
      "           0       1.00      0.99      1.00     56651\n",
      "           1       0.21      0.85      0.33        95\n",
      "\n",
      "    accuracy                           0.99     56746\n",
      "   macro avg       0.60      0.92      0.67     56746\n",
      "weighted avg       1.00      0.99      1.00     56746\n",
      "\n"
     ]
    }
   ],
   "source": [
    "print(f'Confusion_Matrix: {confusion_matrix(y_test,y_predh_knn)}')\n",
    "print(f'f1_score: {f1_score(y_test,y_predh_knn)}')\n",
    "print(f'roc_auc_score: {roc_auc_score(y_test,y_predh_knn)}')\n",
    "print(classification_report(y_test,y_predh_knn))"
   ]
  },
  {
   "cell_type": "code",
   "execution_count": 126,
   "id": "0049f573",
   "metadata": {},
   "outputs": [
    {
     "data": {
      "image/png": "[encoded data removed]",
      "text/plain": [
       "<Figure size 640x480 with 1 Axes>"
      ]
     },
     "metadata": {},
     "output_type": "display_data"
    }
   ],
   "source": [
    "fpr,tpr,threshold = roc_curve(y_test,y_preds_knn)\n",
    "plt.plot(fpr,tpr)\n",
    "plt.plot([0,1],[0,1],color='red',ls='--')\n",
    "plt.title(f'ROC AUC: {round(roc_auc_score(y_test,y_preds_knn),4)}')\n",
    "plt.show()"
   ]
  },
  {
   "cell_type": "code",
   "execution_count": 127,
   "id": "c69e0f81",
   "metadata": {},
   "outputs": [
    {
     "data": {
      "text/plain": [
       "array([0.99910407, 0.99947459, 0.99913463, 0.99927358, 0.99916557,\n",
       "       0.99930477, 0.99936615])"
      ]
     },
     "execution_count": 127,
     "metadata": {},
     "output_type": "execute_result"
    }
   ],
   "source": [
    "cross_val_score(estimator=KNeighborsClassifier(n_neighbors=10, weights='distance'),X=x_train_ss,y=y_train_s, scoring='roc_auc',cv=7)"
   ]
  },
  {
   "cell_type": "markdown",
   "id": "47c05c00",
   "metadata": {},
   "source": [
    "### XGBoost using GridSearchCV"
   ]
  },
  {
   "cell_type": "code",
   "execution_count": 131,
   "id": "ff68144e",
   "metadata": {},
   "outputs": [],
   "source": [
    "grid = {'max_depth':[5,6], 'learning_rate':[0.1,0.2], 'gamma': [0.1,0.2]}\n",
    "gscv = GridSearchCV(estimator=XGBClassifier(n_estimators=100), param_grid=grid, cv=5, scoring='roc_auc')\n",
    "model_cv = gscv.fit(x_train_s, y_train_s)"
   ]
  },
  {
   "cell_type": "code",
   "execution_count": 132,
   "id": "6b4f1165",
   "metadata": {},
   "outputs": [
    {
     "data": {
      "text/plain": [
       "{'gamma': 0.1, 'learning_rate': 0.2, 'max_depth': 6}"
      ]
     },
     "execution_count": 132,
     "metadata": {},
     "output_type": "execute_result"
    }
   ],
   "source": [
    "model_cv.best_params_"
   ]
  },
  {
   "cell_type": "code",
   "execution_count": 133,
   "id": "efc302b5",
   "metadata": {},
   "outputs": [],
   "source": [
    "xgb = XGBClassifier(n_estimators=100, **model_cv.best_params_)\n",
    "model_xgb = xgb.fit(x_train_s,y_train_s)"
   ]
  },
  {
   "cell_type": "code",
   "execution_count": 134,
   "id": "707354de",
   "metadata": {},
   "outputs": [],
   "source": [
    "y_preds_xgb = model_xgb.predict_proba(x_test)[:,1]\n",
    "y_predh_xgb = (y_preds_xgb>0.5).astype(int)"
   ]
  },
  {
   "cell_type": "code",
   "execution_count": 136,
   "id": "cf95ba21",
   "metadata": {},
   "outputs": [
    {
     "name": "stdout",
     "output_type": "stream",
     "text": [
      "Confusion_Matrix: [[56513   138]\n",
      " [   16    79]]\n",
      "f1_score: 0.5064102564102564\n",
      "roc_auc_score: 0.9145714898886905\n",
      "              precision    recall  f1-score   support\n",
      "\n",
      "           0       1.00      1.00      1.00     56651\n",
      "           1       0.36      0.83      0.51        95\n",
      "\n",
      "    accuracy                           1.00     56746\n",
      "   macro avg       0.68      0.91      0.75     56746\n",
      "weighted avg       1.00      1.00      1.00     56746\n",
      "\n"
     ]
    }
   ],
   "source": [
    "print(f'Confusion_Matrix: {confusion_matrix(y_test,y_predh_xgb)}')\n",
    "print(f'f1_score: {f1_score(y_test,y_predh_xgb)}')\n",
    "print(f'roc_auc_score: {roc_auc_score(y_test,y_predh_xgb)}')\n",
    "print(classification_report(y_test,y_predh_xgb))"
   ]
  },
  {
   "cell_type": "code",
   "execution_count": 137,
   "id": "4c234679",
   "metadata": {},
   "outputs": [
    {
     "data": {
      "image/png": "[encoded data removed]",
      "text/plain": [
       "<Figure size 640x480 with 1 Axes>"
      ]
     },
     "metadata": {},
     "output_type": "display_data"
    }
   ],
   "source": [
    "fpr,tpr,threshold = roc_curve(y_test,y_preds_xgb)\n",
    "plt.plot(fpr,tpr)\n",
    "plt.plot([0,1],[0,1],color='red',ls='--')\n",
    "plt.title(f'ROC AUC: {round(roc_auc_score(y_test,y_preds_xgb),4)}')\n",
    "plt.show()"
   ]
  },
  {
   "cell_type": "code",
   "execution_count": 138,
   "id": "0335997a",
   "metadata": {},
   "outputs": [
    {
     "data": {
      "text/plain": [
       "array([0.99987701, 0.99996068, 0.99992962, 0.99995732, 0.99993093,\n",
       "       0.99996166, 0.99993115])"
      ]
     },
     "execution_count": 138,
     "metadata": {},
     "output_type": "execute_result"
    }
   ],
   "source": [
    "cross_val_score(estimator=XGBClassifier(n_estimators=100, gamma= 0.1, learning_rate= 0.2, max_depth= 6),X=x_train_s,y=y_train_s, scoring='roc_auc',cv=7)"
   ]
  },
  {
   "cell_type": "code",
   "execution_count": null,
   "id": "75663d93",
   "metadata": {},
   "outputs": [],
   "source": []
  }
 ],
 "metadata": {
  "kernelspec": {
   "display_name": "Python 3 (ipykernel)",
   "language": "python",
   "name": "python3"
  },
  "language_info": {
   "codemirror_mode": {
    "name": "ipython",
    "version": 3
   },
   "file_extension": ".py",
   "mimetype": "text/x-python",
   "name": "python",
   "nbconvert_exporter": "python",
   "pygments_lexer": "ipython3",
   "version": "3.11.7"
  }
 },
 "nbformat": 4,
 "nbformat_minor": 5
}
